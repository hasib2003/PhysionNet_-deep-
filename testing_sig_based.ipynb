{
 "cells": [
  {
   "cell_type": "markdown",
   "metadata": {},
   "source": [
    "# Testing real world scenario of user registration and verification"
   ]
  },
  {
   "cell_type": "code",
   "execution_count": 2,
   "metadata": {},
   "outputs": [],
   "source": [
    "from classifier import Deep_Classifier\n",
    "import torch\n",
    "import os\n",
    "import numpy as np\n",
    "import matplotlib.pyplot as plt\n",
    "from sklearn.cluster import KMeans\n",
    "import mne"
   ]
  },
  {
   "cell_type": "code",
   "execution_count": 3,
   "metadata": {},
   "outputs": [],
   "source": [
    "path_to_registry = \"./registry\"\n",
    "if not os.path.exists(path_to_registry):\n",
    "    os.makedirs(path_to_registry,exist_ok=True)"
   ]
  },
  {
   "cell_type": "code",
   "execution_count": 4,
   "metadata": {},
   "outputs": [],
   "source": [
    "def load_chkpoint(model, chk_path):\n",
    "    \"\"\"loads the model from give path\n",
    "    Args:\n",
    "    chk_path (string) : path to the pth file containing state dict  of the model \n",
    "    model : the instance of the model\n",
    "    \"\"\"\n",
    "\n",
    "    chk_point = torch.load(chk_path)\n",
    "    model.load_state_dict(chk_point)\n",
    "\n",
    "    return model"
   ]
  },
  {
   "cell_type": "code",
   "execution_count": 16,
   "metadata": {},
   "outputs": [],
   "source": [
    "def sample_windows(eeg_signal,extract_multiples,window_size,slide_interval=16):\n",
    "    \"\"\"\n",
    "    takes input the eeg_signal and extract windows from it  \n",
    "    slide_interval : decides how much the window has to slide\n",
    "    \"\"\"\n",
    "\n",
    "    if extract_multiples == True:\n",
    "        idx = 0 \n",
    "        end = eeg_signal.shape[1] - window_size\n",
    "        \n",
    "        samples = []\n",
    "        while idx <= end:\n",
    "            samples.append(eeg_signal[:,idx:idx+window_size])\n",
    "            idx+= slide_interval\n",
    "\n",
    "        return np.array(samples)\n",
    "    \n",
    "    return eeg_signal[:,:window_size]"
   ]
  },
  {
   "cell_type": "code",
   "execution_count": 6,
   "metadata": {},
   "outputs": [],
   "source": [
    "def find_centroids(input_arr,k=2):\n",
    "    \"\"\"\n",
    "    fits the k keans clustering, and return the centroids\n",
    "    \n",
    "    Args:\n",
    "        input_arr (ndnumpy) : numpy array of shape num_samples * dimension_of_each_sample\n",
    "        k (int) : number of clusters to be made     \n",
    "    Returns:\n",
    "        centroids (ndnumpy) : centroids of the clusters of shape k * dimension_of_each_sample\n",
    "    \"\"\"\n",
    "\n",
    "    \n",
    "    kmeans = KMeans(n_clusters=k, random_state=42)\n",
    "    kmeans.fit(input_arr)\n",
    "\n",
    "    # Cluster labels and centroids\n",
    "    # labels = kmeans.labels_\n",
    "    centroids = kmeans.cluster_centers_\n",
    "\n",
    "    return centroids"
   ]
  },
  {
   "cell_type": "code",
   "execution_count": 7,
   "metadata": {},
   "outputs": [],
   "source": [
    "def save_user(centroids,user_name):\n",
    "    \"\"\" \n",
    "    saves the information of the user\n",
    "    \"\"\"\n",
    "\n",
    "    info = {\"signatures\":centroids}\n",
    "    path = os.path.join(path_to_registry,f\"{user_name}.pth\")\n",
    "    torch.save(info,path)\n",
    "    print(f\"---- saved signature successfully at {path} ----\")\n",
    "\n",
    "\n",
    "\n",
    "    "
   ]
  },
  {
   "cell_type": "code",
   "execution_count": 24,
   "metadata": {},
   "outputs": [],
   "source": [
    "def register_user(model, eeg_signal,user_name,extract_multiples=False):\n",
    "    \"\"\" registers the users in the authentication system\n",
    "\n",
    "    Args:\n",
    "        \n",
    "        model: the instance of the model\n",
    "        eeg_signal (ndnumpy) : unepoched eeg_signal of the user performing a predefined task of shape nchan * sample_points\n",
    "        user_name: the name of the user\n",
    "        extract_multiples (boolean) : determines weather to extract multiple signatures from one user\n",
    "\n",
    "    \"\"\"\n",
    "\n",
    "    window_size = 80 # no of points to be used in one window, fixed ! \n",
    "\n",
    "    input_arr = sample_windows(eeg_signal,extract_multiples,window_size)\n",
    "    input_tensor = torch.Tensor(input_arr)\n",
    "    if len(input_tensor.shape) < 3:\n",
    "        # adding batch dimension\n",
    "        input_tensor = torch.unsqueeze(input_tensor,dim=0) \n",
    "\n",
    "    model.eval()\n",
    "    with torch.no_grad():\n",
    "        signatures  = model(input_tensor) # extacting the signature from the model\n",
    "\n",
    "        # converting them to the unit vectors\n",
    "        norms = torch.norm(signatures,dim=1)\n",
    "        signatures = signatures/norms\n",
    "\n",
    "    # converting to numpy arrs\n",
    "    centroids = signatures.detach().numpy()\n",
    "            \n",
    "\n",
    "    if extract_multiples == True:\n",
    "        # applying kmeans clustering \n",
    "        centroids = find_centroids(centroids)\n",
    "\n",
    "    save_user(centroids,user_name)\n",
    "    print(f\"---- user {user_name} registered successfully ----\")"
   ]
  },
  {
   "cell_type": "code",
   "execution_count": 9,
   "metadata": {},
   "outputs": [],
   "source": [
    "def load_model(chk_points=None):\n",
    "    model =  Deep_Classifier(10)\n",
    "    # model = load_chkpoint(model)\n",
    "    return model\n"
   ]
  },
  {
   "cell_type": "code",
   "execution_count": 10,
   "metadata": {},
   "outputs": [],
   "source": [
    "def load_user(path_edf):\n",
    "    \"\"\"  \n",
    "    reads the edf file and returns the data in numpy arr\n",
    "    \"\"\"\n",
    "\n",
    "    edf_data = mne.io.read_raw_edf(path_edf, verbose=False,preload=True)\n",
    "    return edf_data.get_data()\n",
    "\n",
    "    "
   ]
  },
  {
   "cell_type": "code",
   "execution_count": 21,
   "metadata": {},
   "outputs": [],
   "source": [
    "iota_data = np.random.rand(64,179)"
   ]
  },
  {
   "cell_type": "code",
   "execution_count": 13,
   "metadata": {},
   "outputs": [],
   "source": [
    "model = load_model()"
   ]
  },
  {
   "cell_type": "code",
   "execution_count": 14,
   "metadata": {},
   "outputs": [],
   "source": [
    "eeg_signal = load_user(path_edf=\"../../../data/eeg-motor-movementimagery-dataset-1.0.0/files/S109/S109R14.edf\")"
   ]
  },
  {
   "cell_type": "code",
   "execution_count": 25,
   "metadata": {},
   "outputs": [
    {
     "ename": "",
     "evalue": "",
     "output_type": "error",
     "traceback": [
      "\u001b[1;31mThe Kernel crashed while executing code in the current cell or a previous cell. \n",
      "\u001b[1;31mPlease review the code in the cell(s) to identify a possible cause of the failure. \n",
      "\u001b[1;31mClick <a href='https://aka.ms/vscodeJupyterKernelCrash'>here</a> for more info. \n",
      "\u001b[1;31mView Jupyter <a href='command:jupyter.viewOutput'>log</a> for further details."
     ]
    }
   ],
   "source": [
    "register_user(model,eeg_signal,user_name=\"test_user_v2_109\",extract_multiples=True)"
   ]
  }
 ],
 "metadata": {
  "kernelspec": {
   "display_name": "Python 3",
   "language": "python",
   "name": "python3"
  },
  "language_info": {
   "codemirror_mode": {
    "name": "ipython",
    "version": 3
   },
   "file_extension": ".py",
   "mimetype": "text/x-python",
   "name": "python",
   "nbconvert_exporter": "python",
   "pygments_lexer": "ipython3",
   "version": "3.10.12"
  }
 },
 "nbformat": 4,
 "nbformat_minor": 2
}
