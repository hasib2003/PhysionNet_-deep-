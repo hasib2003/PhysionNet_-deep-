{
 "cells": [
  {
   "cell_type": "code",
   "execution_count": 2,
   "metadata": {},
   "outputs": [],
   "source": [
    "from dataset import Raw_PhysionNet,PSD_PhysioNet\n",
    "from torch.utils.data import  random_split,DataLoader\n",
    "import torch\n",
    "from classifier import Deep_Classifier\n",
    "import os\n",
    "import config_local\n",
    "import torch.nn as nn\n",
    "import itertools\n",
    "import mne\n",
    "from collections import defaultdict"
   ]
  },
  {
   "cell_type": "code",
   "execution_count": 4,
   "metadata": {},
   "outputs": [
    {
     "data": {
      "text/plain": [
       "['S076',\n",
       " 'S083',\n",
       " 'S104',\n",
       " 'S021',\n",
       " 'S075',\n",
       " 'S001',\n",
       " 'S054',\n",
       " 'S106',\n",
       " 'S087',\n",
       " 'S029',\n",
       " 'S048',\n",
       " 'S046',\n",
       " 'S035',\n",
       " 'S030',\n",
       " 'S033',\n",
       " 'S040',\n",
       " '64_channel_sharbrough-old.png',\n",
       " 'S060',\n",
       " 'S041',\n",
       " 'S032',\n",
       " 'S082',\n",
       " 'S108',\n",
       " 'S013',\n",
       " 'S092',\n",
       " 'S049',\n",
       " 'S072',\n",
       " 'S100',\n",
       " 'S069',\n",
       " 'S103',\n",
       " 'S003',\n",
       " 'S080',\n",
       " 'S044',\n",
       " 'S038',\n",
       " 'S031',\n",
       " 'S022',\n",
       " 'S014',\n",
       " 'S039',\n",
       " 'S053',\n",
       " 'S005',\n",
       " 'S062',\n",
       " 'S099',\n",
       " 'S070',\n",
       " 'S012',\n",
       " 'S101',\n",
       " 'S055',\n",
       " 'SHA256SUMS.txt',\n",
       " 'S063',\n",
       " 'S004',\n",
       " 'S107',\n",
       " 'S037',\n",
       " 'S025',\n",
       " 'S034',\n",
       " 'S018',\n",
       " 'S098',\n",
       " 'S011',\n",
       " 'S066',\n",
       " 'S050',\n",
       " 'S109',\n",
       " 'S047',\n",
       " 'S015',\n",
       " 'S009',\n",
       " 'S024',\n",
       " 'S091',\n",
       " 'S093',\n",
       " 'S095',\n",
       " 'S102',\n",
       " 'S089',\n",
       " 'S026',\n",
       " 'S071',\n",
       " 'S057',\n",
       " 'S084',\n",
       " 'S017',\n",
       " '64_channel_sharbrough.pdf',\n",
       " 'S051',\n",
       " 'S079',\n",
       " 'S010',\n",
       " 'S088',\n",
       " 'S077',\n",
       " 'S020',\n",
       " 'S059',\n",
       " 'S073',\n",
       " 'S002',\n",
       " 'S078',\n",
       " 'S008',\n",
       " 'S056',\n",
       " 'S086',\n",
       " 'S027',\n",
       " 'S061',\n",
       " 'S064',\n",
       " 'S028',\n",
       " 'S007',\n",
       " 'S097',\n",
       " 'S068',\n",
       " 'S016',\n",
       " 'S085',\n",
       " 'S019',\n",
       " 'S096',\n",
       " 'S052',\n",
       " 'S074',\n",
       " 'S045',\n",
       " 'S105',\n",
       " 'ANNOTATORS',\n",
       " 'S065',\n",
       " 'S090',\n",
       " 'S058',\n",
       " 'S042',\n",
       " '64_channel_sharbrough.png',\n",
       " 'S094',\n",
       " 'S036',\n",
       " 'S081',\n",
       " 'RECORDS',\n",
       " 'S023',\n",
       " 'S006',\n",
       " 'S067',\n",
       " 'wfdbcal',\n",
       " 'S043']"
      ]
     },
     "execution_count": 4,
     "metadata": {},
     "output_type": "execute_result"
    }
   ],
   "source": [
    "os.listdir(\"../../../data/eeg-motor-movementimagery-dataset-1.0.0/files\")"
   ]
  },
  {
   "cell_type": "code",
   "execution_count": 18,
   "metadata": {},
   "outputs": [
    {
     "data": {
      "text/html": [
       "<table class=\"table table-hover table-striped table-sm table-responsive small\">\n",
       "    <tr>\n",
       "        <th>Number of events</th>\n",
       "        <td>8</td>\n",
       "    </tr>\n",
       "    <tr>\n",
       "        <th>Events</th>\n",
       "        \n",
       "        <td>T2: 8</td>\n",
       "        \n",
       "    </tr>\n",
       "    <tr>\n",
       "        <th>Time range</th>\n",
       "        <td>0.000 – 2.000 s</td>\n",
       "    </tr>\n",
       "    <tr>\n",
       "        <th>Baseline</th>\n",
       "        <td>off</td>\n",
       "    </tr>\n",
       "</table>"
      ],
      "text/plain": [
       "<Epochs |  8 events (all good), 0 – 2 s, baseline off, ~1.3 MB, data loaded,\n",
       " 'T2': 8>"
      ]
     },
     "execution_count": 18,
     "metadata": {},
     "output_type": "execute_result"
    }
   ],
   "source": [
    "file = \"../../../data/eeg-motor-movementimagery-dataset-1.0.0/files/S001/S001R06.edf\"\n",
    "edf_data = mne.io.read_raw_edf(file, verbose=False,preload=True)\n",
    "\n",
    "\n",
    "events, event_id = mne.events_from_annotations(edf_data)\n",
    "\n",
    "tmin = float(os.getenv(\"EPOCH_MIN\"))  # start of each epoch relative to the event\n",
    "tmax = float(os.getenv(\"EPOCH_MAX\"))   # end of each epoch relative to the event\n",
    "\n",
    "# Create epochs from events\n",
    "epochs = mne.Epochs(edf_data, events, {'T2': 3}, tmin, tmax,baseline=None,preload=True,verbose=False)        \n",
    "epochs"
   ]
  },
  {
   "cell_type": "code",
   "execution_count": 19,
   "metadata": {},
   "outputs": [
    {
     "data": {
      "text/plain": [
       "array([[    0,     0,     1],\n",
       "       [  672,     0,     3],\n",
       "       [ 1328,     0,     1],\n",
       "       [ 2000,     0,     2],\n",
       "       [ 2656,     0,     1],\n",
       "       [ 3328,     0,     2],\n",
       "       [ 3984,     0,     1],\n",
       "       [ 4656,     0,     3],\n",
       "       [ 5312,     0,     1],\n",
       "       [ 5984,     0,     2],\n",
       "       [ 6640,     0,     1],\n",
       "       [ 7312,     0,     3],\n",
       "       [ 7968,     0,     1],\n",
       "       [ 8640,     0,     3],\n",
       "       [ 9296,     0,     1],\n",
       "       [ 9968,     0,     2],\n",
       "       [10624,     0,     1],\n",
       "       [11296,     0,     2],\n",
       "       [11952,     0,     1],\n",
       "       [12624,     0,     3],\n",
       "       [13280,     0,     1],\n",
       "       [13952,     0,     3],\n",
       "       [14608,     0,     1],\n",
       "       [15280,     0,     2],\n",
       "       [15936,     0,     1],\n",
       "       [16608,     0,     2],\n",
       "       [17264,     0,     1],\n",
       "       [17936,     0,     3],\n",
       "       [18592,     0,     1],\n",
       "       [19264,     0,     3]])"
      ]
     },
     "execution_count": 19,
     "metadata": {},
     "output_type": "execute_result"
    }
   ],
   "source": [
    "events"
   ]
  },
  {
   "cell_type": "code",
   "execution_count": 13,
   "metadata": {},
   "outputs": [
    {
     "data": {
      "text/plain": [
       "{'T0': 1, 'T1': 2, 'T2': 3}"
      ]
     },
     "execution_count": 13,
     "metadata": {},
     "output_type": "execute_result"
    }
   ],
   "source": [
    "event_id"
   ]
  },
  {
   "cell_type": "code",
   "execution_count": 8,
   "metadata": {},
   "outputs": [
    {
     "data": {
      "text/html": [
       "<table class=\"table table-hover table-striped table-sm table-responsive small\">\n",
       "    <tr>\n",
       "        <th>Number of events</th>\n",
       "        <td>30</td>\n",
       "    </tr>\n",
       "    <tr>\n",
       "        <th>Events</th>\n",
       "        \n",
       "        <td>T0: 15<br/>T1: 8<br/>T2: 7</td>\n",
       "        \n",
       "    </tr>\n",
       "    <tr>\n",
       "        <th>Time range</th>\n",
       "        <td>0.000 – 2.000 s</td>\n",
       "    </tr>\n",
       "    <tr>\n",
       "        <th>Baseline</th>\n",
       "        <td>off</td>\n",
       "    </tr>\n",
       "</table>"
      ],
      "text/plain": [
       "<Epochs |  30 events (all good), 0 – 2 s, baseline off, ~4.8 MB, data loaded,\n",
       " 'T0': 15\n",
       " 'T1': 8\n",
       " 'T2': 7>"
      ]
     },
     "execution_count": 8,
     "metadata": {},
     "output_type": "execute_result"
    }
   ],
   "source": []
  },
  {
   "cell_type": "code",
   "execution_count": 3,
   "metadata": {},
   "outputs": [],
   "source": [
    "import sklearn.cluster._kmeans as kmeans"
   ]
  },
  {
   "cell_type": "code",
   "execution_count": 70,
   "metadata": {},
   "outputs": [],
   "source": [
    "# 512, param 1\n",
    "#     intra 0.9665\n",
    "#     inter 0.6480\n",
    "\n",
    "# 256, param 2\n",
    "#     intra 0.9650\n",
    "#     inter 0.6125\n",
    "\n",
    "# 128, param 1\n",
    "#     intra 0.9559\n",
    "#     inter 0.5600\n"
   ]
  },
  {
   "cell_type": "code",
   "execution_count": 2,
   "metadata": {},
   "outputs": [],
   "source": [
    "import numpy as np"
   ]
  },
  {
   "cell_type": "code",
   "execution_count": 3,
   "metadata": {},
   "outputs": [],
   "source": [
    "def cosine_similarity_matrix(vectors):\n",
    "    \"\"\"\n",
    "    Computes the cosine similarity matrix for a set of vectors.\n",
    "\n",
    "    Parameters:\n",
    "    vectors (torch.Tensor): A torch tensor of shape (n, 128) representing n vectors.\n",
    "\n",
    "    Returns:\n",
    "    torch.Tensor: An n x n matrix where element (i, j) represents the cosine similarity between vector i and vector j.\n",
    "    \"\"\"\n",
    "    # Normalize the vectors\n",
    "    norm_vectors = vectors / vectors.norm(dim=1, keepdim=True)\n",
    "    \n",
    "    # Compute the cosine similarity matrix\n",
    "    similarity_matrix = torch.mm(norm_vectors, norm_vectors.T)\n",
    "    \n",
    "    return similarity_matrix"
   ]
  },
  {
   "cell_type": "code",
   "execution_count": 4,
   "metadata": {},
   "outputs": [],
   "source": [
    "\n",
    "def generate_combinations(elements, length):\n",
    "    \"\"\"\n",
    "    Generates all possible combinations of a given length from a list of elements.\n",
    "\n",
    "    Parameters:\n",
    "    elements (list): The list of elements to combine.\n",
    "    length (int): The length of each combination.\n",
    "\n",
    "    Returns:\n",
    "    list: A list of lists, where each inner list is a combination.\n",
    "    \"\"\"\n",
    "    return np.array(list(itertools.product(elements, repeat=length)))\n",
    "\n"
   ]
  },
  {
   "cell_type": "code",
   "execution_count": 5,
   "metadata": {},
   "outputs": [],
   "source": [
    "def group_indices(tensor):\n",
    "    groups = defaultdict(list)\n",
    "    for idx, item in enumerate(tensor):\n",
    "        groups[item.item()].append(idx)\n",
    "    return list(groups.values())\n",
    "\n"
   ]
  },
  {
   "cell_type": "code",
   "execution_count": 6,
   "metadata": {},
   "outputs": [],
   "source": [
    "model_cls = Deep_Classifier(num_classes=10)"
   ]
  },
  {
   "cell_type": "code",
   "execution_count": 7,
   "metadata": {},
   "outputs": [
    {
     "data": {
      "text/plain": [
       "<All keys matched successfully>"
      ]
     },
     "execution_count": 7,
     "metadata": {},
     "output_type": "execute_result"
    }
   ],
   "source": [
    "model_cls.load_state_dict(torch.load(\"best_model.pth\",map_location=torch.device('cpu')))"
   ]
  },
  {
   "cell_type": "code",
   "execution_count": 8,
   "metadata": {},
   "outputs": [
    {
     "name": "stdout",
     "output_type": "stream",
     "text": [
      ".... found 1526 edf files ....\n"
     ]
    }
   ],
   "source": [
    "raw_dataset = Raw_PhysionNet()\n",
    "# psd_dataset = PSD_PhysioNet(raw_dataset=raw_dataset,freq_bin=bin_dict_extnd,duration=1)"
   ]
  },
  {
   "cell_type": "code",
   "execution_count": 72,
   "metadata": {},
   "outputs": [],
   "source": [
    "indicies = np.arange(0,100)"
   ]
  },
  {
   "cell_type": "code",
   "execution_count": 73,
   "metadata": {},
   "outputs": [],
   "source": [
    "indicies_list = []\n",
    "for class_idx in range(10):\n",
    "    ind_cls = list(indicies + (class_idx)*(362*4))\n",
    "    ind_cls = ind_cls[:20]\n",
    "    indicies_list.append(ind_cls)"
   ]
  },
  {
   "cell_type": "code",
   "execution_count": 74,
   "metadata": {},
   "outputs": [],
   "source": [
    "subj_data_x = [] # list to store data of all subjects"
   ]
  },
  {
   "cell_type": "code",
   "execution_count": 75,
   "metadata": {},
   "outputs": [],
   "source": [
    "for cls_indicies in indicies_list:\n",
    "    class_data_x = []\n",
    "    # class_data_y = []\n",
    "    for idx in cls_indicies:\n",
    "        class_data_x.append(raw_dataset.__getitem__(idx)[0])\n",
    "        # class_data_y.append(raw_dataset.__getitem__(idx)[1])\n",
    "    subj_data_x.append(class_data_x)\n",
    "    # subj_data_y.append(class_data_y)\n"
   ]
  },
  {
   "cell_type": "code",
   "execution_count": 76,
   "metadata": {},
   "outputs": [],
   "source": [
    "subj_embeds = []"
   ]
  },
  {
   "cell_type": "markdown",
   "metadata": {},
   "source": [
    "taking prediction"
   ]
  },
  {
   "cell_type": "code",
   "execution_count": 77,
   "metadata": {},
   "outputs": [],
   "source": [
    "model_cls.eval()\n",
    "for data in subj_data_x:\n",
    "    input_tensor = torch.tensor(data)\n",
    "    output = model_cls.embed(input_tensor.float(),3) # extracting 512 dim embedding for the batch\n",
    "    subj_embeds.append(output)"
   ]
  },
  {
   "cell_type": "code",
   "execution_count": 78,
   "metadata": {},
   "outputs": [],
   "source": [
    "cos = nn.CosineSimilarity(dim=1, eps=1e-6)\n"
   ]
  },
  {
   "cell_type": "code",
   "execution_count": 79,
   "metadata": {},
   "outputs": [],
   "source": [
    "sims_inter = []"
   ]
  },
  {
   "cell_type": "code",
   "execution_count": 80,
   "metadata": {},
   "outputs": [],
   "source": [
    "for j in range(10):\n",
    "    for i in range(10):\n",
    "        output = cos(subj_embeds[j],subj_embeds[i])\n",
    "        out = torch.sum(output,dim=-1)/output.shape[0]\n",
    "        del output\n",
    "        sims_inter.append(out.data)"
   ]
  },
  {
   "cell_type": "code",
   "execution_count": 81,
   "metadata": {},
   "outputs": [
    {
     "data": {
      "text/plain": [
       "tensor(0.5600)"
      ]
     },
     "execution_count": 81,
     "metadata": {},
     "output_type": "execute_result"
    }
   ],
   "source": [
    "sum(sims_inter)/len(sims_inter)"
   ]
  },
  {
   "cell_type": "code",
   "execution_count": 82,
   "metadata": {},
   "outputs": [],
   "source": [
    "sims_intra = []"
   ]
  },
  {
   "cell_type": "code",
   "execution_count": 83,
   "metadata": {},
   "outputs": [],
   "source": [
    "for j in range(10):\n",
    "    for i in range(10):\n",
    "        output = cos(subj_embeds[j],subj_embeds[j][i])\n",
    "        out = torch.sum(output,dim=-1)/output.shape[0]\n",
    "        del output\n",
    "        sims_intra.append(out.data)"
   ]
  },
  {
   "cell_type": "code",
   "execution_count": 84,
   "metadata": {},
   "outputs": [
    {
     "data": {
      "text/plain": [
       "tensor(0.9559)"
      ]
     },
     "execution_count": 84,
     "metadata": {},
     "output_type": "execute_result"
    }
   ],
   "source": [
    "sum(sims_intra)/len(sims_intra)"
   ]
  },
  {
   "cell_type": "code",
   "execution_count": null,
   "metadata": {},
   "outputs": [],
   "source": [
    "n_cluster = "
   ]
  },
  {
   "cell_type": "code",
   "execution_count": null,
   "metadata": {},
   "outputs": [],
   "source": [
    "kmeans()"
   ]
  },
  {
   "cell_type": "code",
   "execution_count": 88,
   "metadata": {},
   "outputs": [
    {
     "ename": "NameError",
     "evalue": "name 'subj_data_x' is not defined",
     "output_type": "error",
     "traceback": [
      "\u001b[0;31m---------------------------------------------------------------------------\u001b[0m",
      "\u001b[0;31mNameError\u001b[0m                                 Traceback (most recent call last)",
      "Cell \u001b[0;32mIn[88], line 1\u001b[0m\n\u001b[0;32m----> 1\u001b[0m \u001b[38;5;28;01mdel\u001b[39;00m subj_data_x\n\u001b[1;32m      2\u001b[0m \u001b[38;5;28;01mdel\u001b[39;00m subj_embeds\n",
      "\u001b[0;31mNameError\u001b[0m: name 'subj_data_x' is not defined"
     ]
    }
   ],
   "source": [
    "del subj_data_x\n",
    "del subj_embeds"
   ]
  }
 ],
 "metadata": {
  "kernelspec": {
   "display_name": "Python 3",
   "language": "python",
   "name": "python3"
  },
  "language_info": {
   "codemirror_mode": {
    "name": "ipython",
    "version": 3
   },
   "file_extension": ".py",
   "mimetype": "text/x-python",
   "name": "python",
   "nbconvert_exporter": "python",
   "pygments_lexer": "ipython3",
   "version": "3.10.12"
  }
 },
 "nbformat": 4,
 "nbformat_minor": 2
}
